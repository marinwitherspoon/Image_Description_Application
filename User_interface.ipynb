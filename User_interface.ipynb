{
  "nbformat": 4,
  "nbformat_minor": 0,
  "metadata": {
    "colab": {
      "provenance": [],
      "mount_file_id": "1tywC0jCn0qqKIT8zeiJqKAVQJOZbXUvF",
      "authorship_tag": "ABX9TyOVekc6cIT1Rg4xf1Ss/vGT",
      "include_colab_link": true
    },
    "kernelspec": {
      "name": "python3",
      "display_name": "Python 3"
    },
    "language_info": {
      "name": "python"
    },
    "widgets": {
      "application/vnd.jupyter.widget-state+json": {
        "b9f4dc0332b746918b53d9bcfb289e6e": {
          "model_module": "@jupyter-widgets/controls",
          "model_name": "HBoxModel",
          "model_module_version": "1.5.0",
          "state": {
            "_dom_classes": [],
            "_model_module": "@jupyter-widgets/controls",
            "_model_module_version": "1.5.0",
            "_model_name": "HBoxModel",
            "_view_count": null,
            "_view_module": "@jupyter-widgets/controls",
            "_view_module_version": "1.5.0",
            "_view_name": "HBoxView",
            "box_style": "",
            "children": [
              "IPY_MODEL_1f89cceaf73c443fa978ec01a8a7b760",
              "IPY_MODEL_f1f9019cffd24f9380ce95f6a6762678"
            ],
            "layout": "IPY_MODEL_ed635495e04c4038bb5fc2d75614937e"
          }
        },
        "1f89cceaf73c443fa978ec01a8a7b760": {
          "model_module": "@jupyter-widgets/controls",
          "model_name": "FileUploadModel",
          "model_module_version": "1.5.0",
          "state": {
            "_counter": 0,
            "_dom_classes": [],
            "_model_module": "@jupyter-widgets/controls",
            "_model_module_version": "1.5.0",
            "_model_name": "FileUploadModel",
            "_view_count": null,
            "_view_module": "@jupyter-widgets/controls",
            "_view_module_version": "1.5.0",
            "_view_name": "FileUploadView",
            "accept": ".jpg",
            "button_style": "",
            "data": [],
            "description": "Upload",
            "description_tooltip": null,
            "disabled": false,
            "error": "",
            "icon": "upload",
            "layout": "IPY_MODEL_8db909ca422c42848c04ed2baf934498",
            "metadata": [],
            "multiple": false,
            "style": "IPY_MODEL_78f5f8e7a00e4ce3a219af2fac80ce11"
          }
        },
        "f1f9019cffd24f9380ce95f6a6762678": {
          "model_module": "@jupyter-widgets/controls",
          "model_name": "ButtonModel",
          "model_module_version": "1.5.0",
          "state": {
            "_dom_classes": [],
            "_model_module": "@jupyter-widgets/controls",
            "_model_module_version": "1.5.0",
            "_model_name": "ButtonModel",
            "_view_count": null,
            "_view_module": "@jupyter-widgets/controls",
            "_view_module_version": "1.5.0",
            "_view_name": "ButtonView",
            "button_style": "danger",
            "description": "Clear",
            "disabled": false,
            "icon": "",
            "layout": "IPY_MODEL_4498a3d0e02c4e69b1da21fd27bf8e73",
            "style": "IPY_MODEL_514329ce740b4f9f8c57a571f709a4ad",
            "tooltip": ""
          }
        },
        "ed635495e04c4038bb5fc2d75614937e": {
          "model_module": "@jupyter-widgets/base",
          "model_name": "LayoutModel",
          "model_module_version": "1.2.0",
          "state": {
            "_model_module": "@jupyter-widgets/base",
            "_model_module_version": "1.2.0",
            "_model_name": "LayoutModel",
            "_view_count": null,
            "_view_module": "@jupyter-widgets/base",
            "_view_module_version": "1.2.0",
            "_view_name": "LayoutView",
            "align_content": null,
            "align_items": null,
            "align_self": null,
            "border": null,
            "bottom": null,
            "display": null,
            "flex": null,
            "flex_flow": null,
            "grid_area": null,
            "grid_auto_columns": null,
            "grid_auto_flow": null,
            "grid_auto_rows": null,
            "grid_column": null,
            "grid_gap": null,
            "grid_row": null,
            "grid_template_areas": null,
            "grid_template_columns": null,
            "grid_template_rows": null,
            "height": null,
            "justify_content": null,
            "justify_items": null,
            "left": null,
            "margin": null,
            "max_height": null,
            "max_width": null,
            "min_height": null,
            "min_width": null,
            "object_fit": null,
            "object_position": null,
            "order": null,
            "overflow": null,
            "overflow_x": null,
            "overflow_y": null,
            "padding": null,
            "right": null,
            "top": null,
            "visibility": null,
            "width": null
          }
        },
        "8db909ca422c42848c04ed2baf934498": {
          "model_module": "@jupyter-widgets/base",
          "model_name": "LayoutModel",
          "model_module_version": "1.2.0",
          "state": {
            "_model_module": "@jupyter-widgets/base",
            "_model_module_version": "1.2.0",
            "_model_name": "LayoutModel",
            "_view_count": null,
            "_view_module": "@jupyter-widgets/base",
            "_view_module_version": "1.2.0",
            "_view_name": "LayoutView",
            "align_content": null,
            "align_items": null,
            "align_self": null,
            "border": null,
            "bottom": null,
            "display": null,
            "flex": null,
            "flex_flow": null,
            "grid_area": null,
            "grid_auto_columns": null,
            "grid_auto_flow": null,
            "grid_auto_rows": null,
            "grid_column": null,
            "grid_gap": null,
            "grid_row": null,
            "grid_template_areas": null,
            "grid_template_columns": null,
            "grid_template_rows": null,
            "height": null,
            "justify_content": null,
            "justify_items": null,
            "left": null,
            "margin": null,
            "max_height": null,
            "max_width": null,
            "min_height": null,
            "min_width": null,
            "object_fit": null,
            "object_position": null,
            "order": null,
            "overflow": null,
            "overflow_x": null,
            "overflow_y": null,
            "padding": null,
            "right": null,
            "top": null,
            "visibility": null,
            "width": null
          }
        },
        "78f5f8e7a00e4ce3a219af2fac80ce11": {
          "model_module": "@jupyter-widgets/controls",
          "model_name": "ButtonStyleModel",
          "model_module_version": "1.5.0",
          "state": {
            "_model_module": "@jupyter-widgets/controls",
            "_model_module_version": "1.5.0",
            "_model_name": "ButtonStyleModel",
            "_view_count": null,
            "_view_module": "@jupyter-widgets/base",
            "_view_module_version": "1.2.0",
            "_view_name": "StyleView",
            "button_color": null,
            "font_weight": ""
          }
        },
        "4498a3d0e02c4e69b1da21fd27bf8e73": {
          "model_module": "@jupyter-widgets/base",
          "model_name": "LayoutModel",
          "model_module_version": "1.2.0",
          "state": {
            "_model_module": "@jupyter-widgets/base",
            "_model_module_version": "1.2.0",
            "_model_name": "LayoutModel",
            "_view_count": null,
            "_view_module": "@jupyter-widgets/base",
            "_view_module_version": "1.2.0",
            "_view_name": "LayoutView",
            "align_content": null,
            "align_items": null,
            "align_self": null,
            "border": null,
            "bottom": null,
            "display": null,
            "flex": null,
            "flex_flow": null,
            "grid_area": null,
            "grid_auto_columns": null,
            "grid_auto_flow": null,
            "grid_auto_rows": null,
            "grid_column": null,
            "grid_gap": null,
            "grid_row": null,
            "grid_template_areas": null,
            "grid_template_columns": null,
            "grid_template_rows": null,
            "height": null,
            "justify_content": null,
            "justify_items": null,
            "left": null,
            "margin": null,
            "max_height": null,
            "max_width": null,
            "min_height": null,
            "min_width": null,
            "object_fit": null,
            "object_position": null,
            "order": null,
            "overflow": null,
            "overflow_x": null,
            "overflow_y": null,
            "padding": null,
            "right": null,
            "top": null,
            "visibility": null,
            "width": null
          }
        },
        "514329ce740b4f9f8c57a571f709a4ad": {
          "model_module": "@jupyter-widgets/controls",
          "model_name": "ButtonStyleModel",
          "model_module_version": "1.5.0",
          "state": {
            "_model_module": "@jupyter-widgets/controls",
            "_model_module_version": "1.5.0",
            "_model_name": "ButtonStyleModel",
            "_view_count": null,
            "_view_module": "@jupyter-widgets/base",
            "_view_module_version": "1.2.0",
            "_view_name": "StyleView",
            "button_color": null,
            "font_weight": ""
          }
        }
      }
    }
  },
  "cells": [
    {
      "cell_type": "markdown",
      "metadata": {
        "id": "view-in-github",
        "colab_type": "text"
      },
      "source": [
        "<a href=\"https://colab.research.google.com/github/marinwitherspoon/Image_Description_Application/blob/main/User_interface.ipynb\" target=\"_parent\"><img src=\"https://colab.research.google.com/assets/colab-badge.svg\" alt=\"Open In Colab\"/></a>"
      ]
    },
    {
      "cell_type": "code",
      "execution_count": 7,
      "metadata": {
        "id": "E0s7TaDBrPmp"
      },
      "outputs": [],
      "source": [
        "# import packages\n",
        "import torch\n",
        "from transformers import AutoModelForCausalLM\n",
        "from PIL import Image\n",
        "import numpy as np\n",
        "import os\n",
        "from transformers import AutoProcessor"
      ]
    },
    {
      "cell_type": "code",
      "source": [
        "# connect to the google drive\n",
        "from google.colab import drive\n",
        "drive.mount('/content/drive')"
      ],
      "metadata": {
        "id": "dnRvqTkHT8Nn",
        "colab": {
          "base_uri": "https://localhost:8080/"
        },
        "outputId": "22a98236-71dc-4ae8-b4b5-374ca1994538"
      },
      "execution_count": 8,
      "outputs": [
        {
          "output_type": "stream",
          "name": "stdout",
          "text": [
            "Drive already mounted at /content/drive; to attempt to forcibly remount, call drive.mount(\"/content/drive\", force_remount=True).\n"
          ]
        }
      ]
    },
    {
      "cell_type": "code",
      "source": [
        "## Loading model\n",
        "processor = AutoProcessor.from_pretrained(\"microsoft/git-base\")\n",
        "\n",
        "loaded_model =  AutoModelForCausalLM.from_pretrained(\"microsoft/git-base\")\n",
        "loaded_optimizer = torch.optim.AdamW(loaded_model.parameters(), lr=5e-5)\n",
        "\n",
        "# Load the saved model and optimizer state\n",
        "loaded_model.load_state_dict(torch.load(r'/content/drive/MyDrive/Capstone (Shared)/8k_finetuned_model/finetuned_model_grad', map_location=torch.device('cpu')))\n",
        "loaded_optimizer.load_state_dict(torch.load(r'/content/drive/MyDrive/Capstone (Shared)/8k_finetuned_model/optimizer_state_grad', map_location=torch.device('cpu')))\n",
        "\n",
        "# Set the model to evaluation mode for inference\n",
        "loaded_model.eval()"
      ],
      "metadata": {
        "colab": {
          "base_uri": "https://localhost:8080/"
        },
        "id": "XQ8rBenRM-KK",
        "outputId": "1a2cdf30-763a-4efd-f990-e919d12c827e"
      },
      "execution_count": 10,
      "outputs": [
        {
          "output_type": "execute_result",
          "data": {
            "text/plain": [
              "GitForCausalLM(\n",
              "  (git): GitModel(\n",
              "    (embeddings): GitEmbeddings(\n",
              "      (word_embeddings): Embedding(30522, 768, padding_idx=0)\n",
              "      (position_embeddings): Embedding(1024, 768)\n",
              "      (LayerNorm): LayerNorm((768,), eps=1e-12, elementwise_affine=True)\n",
              "      (dropout): Dropout(p=0.1, inplace=False)\n",
              "    )\n",
              "    (image_encoder): GitVisionModel(\n",
              "      (vision_model): GitVisionTransformer(\n",
              "        (embeddings): GitVisionEmbeddings(\n",
              "          (patch_embedding): Conv2d(3, 768, kernel_size=(16, 16), stride=(16, 16), bias=False)\n",
              "          (position_embedding): Embedding(197, 768)\n",
              "        )\n",
              "        (pre_layrnorm): LayerNorm((768,), eps=1e-05, elementwise_affine=True)\n",
              "        (encoder): GitVisionEncoder(\n",
              "          (layers): ModuleList(\n",
              "            (0-11): 12 x GitVisionEncoderLayer(\n",
              "              (self_attn): GitVisionAttention(\n",
              "                (k_proj): Linear(in_features=768, out_features=768, bias=True)\n",
              "                (v_proj): Linear(in_features=768, out_features=768, bias=True)\n",
              "                (q_proj): Linear(in_features=768, out_features=768, bias=True)\n",
              "                (out_proj): Linear(in_features=768, out_features=768, bias=True)\n",
              "              )\n",
              "              (layer_norm1): LayerNorm((768,), eps=1e-05, elementwise_affine=True)\n",
              "              (mlp): GitVisionMLP(\n",
              "                (activation_fn): QuickGELUActivation()\n",
              "                (fc1): Linear(in_features=768, out_features=3072, bias=True)\n",
              "                (fc2): Linear(in_features=3072, out_features=768, bias=True)\n",
              "              )\n",
              "              (layer_norm2): LayerNorm((768,), eps=1e-05, elementwise_affine=True)\n",
              "            )\n",
              "          )\n",
              "        )\n",
              "        (post_layernorm): LayerNorm((768,), eps=1e-05, elementwise_affine=True)\n",
              "      )\n",
              "    )\n",
              "    (encoder): GitEncoder(\n",
              "      (layer): ModuleList(\n",
              "        (0-5): 6 x GitLayer(\n",
              "          (attention): GitAttention(\n",
              "            (self): GitSelfAttention(\n",
              "              (query): Linear(in_features=768, out_features=768, bias=True)\n",
              "              (key): Linear(in_features=768, out_features=768, bias=True)\n",
              "              (value): Linear(in_features=768, out_features=768, bias=True)\n",
              "              (dropout): Dropout(p=0.1, inplace=False)\n",
              "            )\n",
              "            (output): GitSelfOutput(\n",
              "              (dense): Linear(in_features=768, out_features=768, bias=True)\n",
              "              (LayerNorm): LayerNorm((768,), eps=1e-12, elementwise_affine=True)\n",
              "              (dropout): Dropout(p=0.1, inplace=False)\n",
              "            )\n",
              "          )\n",
              "          (intermediate): GitIntermediate(\n",
              "            (dense): Linear(in_features=768, out_features=3072, bias=True)\n",
              "            (intermediate_act_fn): GELUActivation()\n",
              "          )\n",
              "          (output): GitOutput(\n",
              "            (dense): Linear(in_features=3072, out_features=768, bias=True)\n",
              "            (LayerNorm): LayerNorm((768,), eps=1e-12, elementwise_affine=True)\n",
              "            (dropout): Dropout(p=0.1, inplace=False)\n",
              "          )\n",
              "        )\n",
              "      )\n",
              "    )\n",
              "    (visual_projection): GitProjection(\n",
              "      (visual_projection): Sequential(\n",
              "        (0): Linear(in_features=768, out_features=768, bias=True)\n",
              "        (1): LayerNorm((768,), eps=1e-05, elementwise_affine=True)\n",
              "      )\n",
              "    )\n",
              "  )\n",
              "  (output): Linear(in_features=768, out_features=30522, bias=True)\n",
              ")"
            ]
          },
          "metadata": {},
          "execution_count": 10
        }
      ]
    },
    {
      "cell_type": "code",
      "source": [
        "# #user input of file path to image\n",
        "# image_path = input('image file path here: ')\n",
        "# # example image path: /content/drive/MyDrive/Capstone (Shared)/User input/portrait-photographer-background-people-public-event-56561794.jpg\n",
        "\n",
        "# # User interface function\n",
        "# def imageinput(path):\n",
        "#   # open and print image\n",
        "#   image = Image.open(path)\n",
        "#   width, height = image.size\n",
        "#   display(image.resize((int(0.7*width), int(0.5*height))))\n",
        "\n",
        "#   device = \"cuda\" if torch.cuda.is_available() else \"cpu\"\n",
        "\n",
        "#   # Run the image through the model\n",
        "#   inputs = processor(images=image, return_tensors=\"pt\").to(device)\n",
        "#   pixel_values = inputs.pixel_values\n",
        "#   generated_ids = loaded_model.generate(pixel_values=pixel_values, max_length=50)\n",
        "#   #generate and print caption\n",
        "#   generated_caption = processor.batch_decode(generated_ids, skip_special_tokens=True)[0]\n",
        "#   print(generated_caption)\n",
        "\n",
        "# #call function with inputed image path\n",
        "# imageinput(image_path)"
      ],
      "metadata": {
        "id": "T_MYH8f_RaeK"
      },
      "execution_count": null,
      "outputs": []
    },
    {
      "cell_type": "code",
      "source": [
        "import ipywidgets as widgets\n",
        "from google.colab import files\n",
        "from IPython.display import display, Image, clear_output\n",
        "\n",
        "# File upload button\n",
        "upload_button = widgets.FileUpload(\n",
        "    accept='.jpg')\n",
        "\n",
        "# Clear button\n",
        "clear_button = widgets.Button(\n",
        "    description='Clear',\n",
        "    button_style='danger')\n",
        "\n",
        "# button display\n",
        "def b_dis():\n",
        "    display(widgets.HBox([upload_button, clear_button]))\n",
        "\n",
        "# Function to handle file upload and display\n",
        "def on_upload_change(change):\n",
        "    if change['name'] == 'value':\n",
        "      clear_output(wait=True)\n",
        "      b_dis()  # show buttons again after clear\n",
        "      for filename, file_info in upload_button.value.items():\n",
        "        display(Image(data=file_info['content'])) # Display image\n",
        "\n",
        "# Function to clear the uploaded files and output\n",
        "def on_clear_button_clicked(b):\n",
        "    upload_button.value.clear()\n",
        "    clear_output()\n",
        "    b_dis()  # show buttons again after clear\n",
        "\n",
        "# call button function\n",
        "upload_button.observe(on_upload_change, names='value')\n",
        "clear_button.on_click(on_clear_button_clicked)\n",
        "\n",
        "# Display the buttons initially\n",
        "b_dis()\n",
        "\n",
        "\n",
        "\n",
        "\n",
        "##### UPLOAD TO CODE FILES NOT DRIVE"
      ],
      "metadata": {
        "colab": {
          "base_uri": "https://localhost:8080/",
          "height": 49,
          "referenced_widgets": [
            "b9f4dc0332b746918b53d9bcfb289e6e",
            "1f89cceaf73c443fa978ec01a8a7b760",
            "f1f9019cffd24f9380ce95f6a6762678",
            "ed635495e04c4038bb5fc2d75614937e",
            "8db909ca422c42848c04ed2baf934498",
            "78f5f8e7a00e4ce3a219af2fac80ce11",
            "4498a3d0e02c4e69b1da21fd27bf8e73",
            "514329ce740b4f9f8c57a571f709a4ad"
          ]
        },
        "id": "cY2Ffea4VURV",
        "outputId": "228eb05a-bb36-4158-cc8c-39b4e7b41be3"
      },
      "execution_count": 11,
      "outputs": [
        {
          "output_type": "display_data",
          "data": {
            "text/plain": [
              "HBox(children=(FileUpload(value={}, accept='.jpg', description='Upload'), Button(button_style='danger', descri…"
            ],
            "application/vnd.jupyter.widget-view+json": {
              "version_major": 2,
              "version_minor": 0,
              "model_id": "b9f4dc0332b746918b53d9bcfb289e6e"
            }
          },
          "metadata": {}
        }
      ]
    }
  ]
}