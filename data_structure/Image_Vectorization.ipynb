{
 "cells": [
  {
   "cell_type": "code",
   "execution_count": 15,
   "id": "f6709cca-e65e-4654-a6d1-beaff7e2b8ae",
   "metadata": {},
   "outputs": [],
   "source": [
    "import pandas as pd\n",
    "import numpy as np\n",
    "import csv\n",
    "from PIL import Image\n",
    "import glob\n",
    "from tqdm import trange\n",
    "from tqdm import tqdm\n",
    "import json\n",
    "import os\n",
    "import cv2"
   ]
  },
  {
   "cell_type": "code",
   "execution_count": 5,
   "id": "8d047f27-a158-4a64-89df-9fe62dd37061",
   "metadata": {},
   "outputs": [
    {
     "data": {
      "text/plain": [
       "(353, 500)"
      ]
     },
     "execution_count": 5,
     "metadata": {},
     "output_type": "execute_result"
    }
   ],
   "source": [
    "#vectorize image test and convert to grayscale\n",
    "image = Image.open('3767841911_6678052eb6.jpg').convert('L')\n",
    "arr = np.array(image)\n",
    "arr.shape"
   ]
  },
  {
   "cell_type": "code",
   "execution_count": 6,
   "id": "bb03b8da-4248-4510-826c-08aa31510df7",
   "metadata": {},
   "outputs": [
    {
     "name": "stdout",
     "output_type": "stream",
     "text": [
      "[[18 19 24 ... 14 10  7]\n",
      " [15 15 15 ... 19 19 17]\n",
      " [17 14 14 ... 32 35 34]\n",
      " ...\n",
      " [11 10 13 ... 12 14 16]\n",
      " [ 5 14 15 ...  4  5  5]\n",
      " [ 8 12 10 ...  3  3  4]]\n"
     ]
    }
   ],
   "source": [
    "print(arr[0:10])"
   ]
  },
  {
   "cell_type": "code",
   "execution_count": 17,
   "id": "00d33164-4cd7-47ea-96e9-6e5715f4aab4",
   "metadata": {},
   "outputs": [
    {
     "name": "stderr",
     "output_type": "stream",
     "text": [
      "100%|██████████████████████████████████████| 8091/8091 [00:44<00:00, 181.96it/s]\n"
     ]
    }
   ],
   "source": [
    "#write loop\n",
    "image_dict = {}\n",
    "\n",
    "#target size\n",
    "target = (224,224)\n",
    "#get image title\n",
    "directory_path = '/Users/ours/Desktop/Image Description Capstone/Flickr 8k/Images'\n",
    "jpg_files = glob.glob(f'{directory_path}/*.jpg')\n",
    "\n",
    "for i in trange(len(jpg_files)):\n",
    "    file_name = jpg_files[i]\n",
    "    #get image \n",
    "    image = Image.open(file_name).convert('L')\n",
    "    \n",
    "    # Get image name without the path\n",
    "    image_name = os.path.basename(file_name)\n",
    "\n",
    "    # #process image\n",
    "    # arr = np.array(image).tolist()\n",
    "    \n",
    "    # Resize the image using OpenCV\n",
    "    resized_image = cv2.resize(np.array(image), target, interpolation=cv2.INTER_AREA)\n",
    "    \n",
    "    #write to dict\n",
    "    image_dict[image_name] = resized_image.tolist()"
   ]
  },
  {
   "cell_type": "code",
   "execution_count": 18,
   "id": "91b38722-140e-4f37-9d4e-330a31a3c317",
   "metadata": {},
   "outputs": [],
   "source": [
    "shapes = []\n",
    "for key in list(image_dict.keys()):\n",
    "    s = np.array(image_dict[key]).shape\n",
    "    shapes.append(s)"
   ]
  },
  {
   "cell_type": "code",
   "execution_count": 19,
   "id": "b0b7c5d2-71b8-4b0f-bec9-1b2cff39188c",
   "metadata": {},
   "outputs": [
    {
     "data": {
      "text/plain": [
       "array([224])"
      ]
     },
     "execution_count": 19,
     "metadata": {},
     "output_type": "execute_result"
    }
   ],
   "source": [
    "np.unique(shapes)"
   ]
  },
  {
   "cell_type": "code",
   "execution_count": 11,
   "id": "3c2e8503-7751-4023-8874-aa67307467a5",
   "metadata": {},
   "outputs": [],
   "source": [
    "shapes = []\n",
    "for key in list(image_dict.keys()):\n",
    "    s = np.array(image_dict[key]).shape\n",
    "    shapes.append(s)"
   ]
  },
  {
   "cell_type": "code",
   "execution_count": 13,
   "id": "d5ed9fef-bd56-4819-bbd3-7fffa83246f0",
   "metadata": {},
   "outputs": [
    {
     "data": {
      "text/plain": [
       "array([127, 148, 151, 164, 166, 167, 175, 176, 177, 178, 180, 182, 183,\n",
       "       185, 187, 191, 192, 193, 195, 197, 198, 200, 201, 202, 203, 207,\n",
       "       208, 209, 212, 213, 214, 215, 216, 217, 218, 219, 224, 228, 229,\n",
       "       230, 231, 232, 233, 237, 238, 239, 240, 241, 242, 243, 244, 245,\n",
       "       246, 247, 248, 249, 250, 251, 252, 253, 255, 256, 257, 258, 259,\n",
       "       260, 261, 262, 263, 264, 266, 267, 268, 269, 270, 271, 272, 273,\n",
       "       274, 275, 276, 277, 279, 280, 281, 282, 283, 284, 285, 286, 287,\n",
       "       288, 289, 290, 291, 292, 293, 294, 295, 296, 297, 298, 299, 300,\n",
       "       301, 302, 303, 304, 305, 306, 307, 308, 309, 310, 311, 312, 313,\n",
       "       314, 315, 316, 317, 318, 319, 320, 321, 322, 323, 324, 325, 326,\n",
       "       327, 328, 329, 330, 331, 332, 333, 334, 335, 336, 337, 338, 339,\n",
       "       340, 341, 342, 343, 344, 345, 346, 347, 348, 349, 350, 351, 352,\n",
       "       353, 354, 355, 356, 357, 358, 359, 360, 361, 362, 363, 364, 365,\n",
       "       366, 367, 368, 369, 370, 371, 372, 373, 374, 375, 376, 377, 378,\n",
       "       379, 380, 381, 382, 383, 384, 385, 386, 387, 388, 389, 390, 391,\n",
       "       392, 393, 394, 395, 396, 397, 398, 399, 400, 401, 402, 403, 404,\n",
       "       405, 406, 407, 408, 409, 410, 411, 412, 413, 414, 415, 416, 417,\n",
       "       418, 419, 420, 421, 422, 423, 424, 425, 426, 427, 428, 429, 430,\n",
       "       431, 432, 433, 434, 435, 436, 437, 438, 439, 440, 441, 442, 443,\n",
       "       444, 445, 446, 447, 448, 449, 450, 451, 452, 453, 454, 455, 456,\n",
       "       457, 458, 459, 460, 461, 462, 463, 464, 465, 466, 467, 468, 469,\n",
       "       470, 471, 472, 473, 474, 475, 476, 477, 478, 479, 480, 481, 482,\n",
       "       483, 484, 485, 486, 487, 488, 489, 490, 491, 492, 493, 494, 495,\n",
       "       496, 497, 498, 499, 500])"
      ]
     },
     "execution_count": 13,
     "metadata": {},
     "output_type": "execute_result"
    }
   ],
   "source": [
    "np.unique(shapes)"
   ]
  },
  {
   "cell_type": "code",
   "execution_count": 20,
   "id": "c772e8ae-c8e2-4589-a3f2-38716aa2177a",
   "metadata": {},
   "outputs": [],
   "source": [
    "#took 7 min to write\n",
    "with open('preprocessed_image_v3.json', 'w') as fp:\n",
    "    json.dump(image_dict, fp)"
   ]
  },
  {
   "cell_type": "code",
   "execution_count": 8,
   "id": "0cff6a35-3769-4668-ad0f-af652a5dc760",
   "metadata": {},
   "outputs": [],
   "source": [
    "#took 7 min to write\n",
    "with open('preprocessed_image_v2.json', 'w') as fp:\n",
    "    json.dump(image_dict, fp)"
   ]
  },
  {
   "cell_type": "code",
   "execution_count": 42,
   "id": "df966409-f8b3-4f65-8ab3-94b11cb88eb6",
   "metadata": {},
   "outputs": [],
   "source": [
    "#took 7 min to write\n",
    "with open('preprocessed_image_v1.json', 'w') as fp:\n",
    "    json.dump(image_dict, fp)"
   ]
  }
 ],
 "metadata": {
  "kernelspec": {
   "display_name": "Python 3 (ipykernel)",
   "language": "python",
   "name": "python3"
  },
  "language_info": {
   "codemirror_mode": {
    "name": "ipython",
    "version": 3
   },
   "file_extension": ".py",
   "mimetype": "text/x-python",
   "name": "python",
   "nbconvert_exporter": "python",
   "pygments_lexer": "ipython3",
   "version": "3.11.1"
  }
 },
 "nbformat": 4,
 "nbformat_minor": 5
}
