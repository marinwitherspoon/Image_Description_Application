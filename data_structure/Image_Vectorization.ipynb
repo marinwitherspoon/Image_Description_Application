{
 "cells": [
  {
   "cell_type": "code",
   "execution_count": 36,
   "id": "f6709cca-e65e-4654-a6d1-beaff7e2b8ae",
   "metadata": {},
   "outputs": [],
   "source": [
    "import pandas as pd\n",
    "import numpy as np\n",
    "import csv\n",
    "from PIL import Image\n",
    "import glob\n",
    "from tqdm import trange\n",
    "from tqdm import tqdm\n",
    "import json"
   ]
  },
  {
   "cell_type": "code",
   "execution_count": 5,
   "id": "8d047f27-a158-4a64-89df-9fe62dd37061",
   "metadata": {},
   "outputs": [
    {
     "data": {
      "text/plain": [
       "(353, 500)"
      ]
     },
     "execution_count": 5,
     "metadata": {},
     "output_type": "execute_result"
    }
   ],
   "source": [
    "#vectorize image test and convert to grayscale\n",
    "image = Image.open('3767841911_6678052eb6.jpg').convert('L')\n",
    "arr = np.array(image)\n",
    "arr.shape"
   ]
  },
  {
   "cell_type": "code",
   "execution_count": 6,
   "id": "bb03b8da-4248-4510-826c-08aa31510df7",
   "metadata": {},
   "outputs": [
    {
     "name": "stdout",
     "output_type": "stream",
     "text": [
      "[[18 19 24 ... 14 10  7]\n",
      " [15 15 15 ... 19 19 17]\n",
      " [17 14 14 ... 32 35 34]\n",
      " ...\n",
      " [11 10 13 ... 12 14 16]\n",
      " [ 5 14 15 ...  4  5  5]\n",
      " [ 8 12 10 ...  3  3  4]]\n"
     ]
    }
   ],
   "source": [
    "print(arr[0:10])"
   ]
  },
  {
   "cell_type": "code",
   "execution_count": 41,
   "id": "00d33164-4cd7-47ea-96e9-6e5715f4aab4",
   "metadata": {},
   "outputs": [
    {
     "name": "stderr",
     "output_type": "stream",
     "text": [
      "100%|██████████████████████████████████████| 8091/8091 [01:19<00:00, 102.00it/s]\n"
     ]
    }
   ],
   "source": [
    "#write loop\n",
    "image_dict = {}\n",
    "#get image title\n",
    "directory_path = '/Users/ours/Desktop/Image Description Capstone/Flickr 8k/Images'\n",
    "jpg_files = glob.glob(f'{directory_path}/*.jpg')\n",
    "\n",
    "for i in trange(len(jpg_files)):\n",
    "    file_name = jpg_files[i]\n",
    "    #get image \n",
    "    image = Image.open(file_name).convert('L')\n",
    "\n",
    "    #process image\n",
    "    arr = np.array(image).tolist()\n",
    "    #write to dict\n",
    "    image_dict[file_name] = arr"
   ]
  },
  {
   "cell_type": "code",
   "execution_count": 42,
   "id": "c772e8ae-c8e2-4589-a3f2-38716aa2177a",
   "metadata": {},
   "outputs": [],
   "source": [
    "#took 7 min to write\n",
    "with open('preprocessed_image_v1.json', 'w') as fp:\n",
    "    json.dump(image_dict, fp)"
   ]
  }
 ],
 "metadata": {
  "kernelspec": {
   "display_name": "Python 3 (ipykernel)",
   "language": "python",
   "name": "python3"
  },
  "language_info": {
   "codemirror_mode": {
    "name": "ipython",
    "version": 3
   },
   "file_extension": ".py",
   "mimetype": "text/x-python",
   "name": "python",
   "nbconvert_exporter": "python",
   "pygments_lexer": "ipython3",
   "version": "3.11.1"
  }
 },
 "nbformat": 4,
 "nbformat_minor": 5
}
