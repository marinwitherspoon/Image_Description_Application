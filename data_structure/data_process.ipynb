{
 "cells": [
  {
   "cell_type": "code",
   "execution_count": 3,
   "metadata": {},
   "outputs": [],
   "source": [
    "import json "
   ]
  },
  {
   "cell_type": "code",
   "execution_count": 4,
   "metadata": {},
   "outputs": [],
   "source": [
    "file_path = 'C:\\\\Users\\\\smeet\\\\Desktop\\\\Final Capstone - 5500\\\\creating_data_structure\\\\captions.txt'\n",
    "\n",
    "# opening the 'Captions' text file\n",
    "with open(file_path, 'r') as f:\n",
    "    lines = f.readlines()\n",
    "#\n",
    "data  = {}\n",
    "current_id = 1 \n",
    "\n",
    "for line in lines[1:]:\n",
    "    image_id, description = line.split(',',1)\n",
    "    image_name = image_id.strip()\n",
    "    description = description.strip()\n",
    "\n",
    "    data[current_id] =  [image_name, description]\n",
    "    current_id +=1 "
   ]
  },
  {
   "cell_type": "markdown",
   "metadata": {},
   "source": [
    "### saving to json"
   ]
  },
  {
   "cell_type": "code",
   "execution_count": 5,
   "metadata": {},
   "outputs": [
    {
     "name": "stdout",
     "output_type": "stream",
     "text": [
      "Data saved to data_captions.json\n"
     ]
    }
   ],
   "source": [
    "file_name =  'data_captions.json'\n",
    "\n",
    "with open(file_name, 'w') as json_file:\n",
    "    json.dump(data, json_file)\n",
    "\n",
    "print(f\"Data saved to {file_name}\")"
   ]
  }
 ],
 "metadata": {
  "kernelspec": {
   "display_name": "Python 3",
   "language": "python",
   "name": "python3"
  },
  "language_info": {
   "codemirror_mode": {
    "name": "ipython",
    "version": 3
   },
   "file_extension": ".py",
   "mimetype": "text/x-python",
   "name": "python",
   "nbconvert_exporter": "python",
   "pygments_lexer": "ipython3",
   "version": "3.11.4"
  }
 },
 "nbformat": 4,
 "nbformat_minor": 2
}
