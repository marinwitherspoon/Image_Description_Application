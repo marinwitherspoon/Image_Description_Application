{
  "nbformat": 4,
  "nbformat_minor": 0,
  "metadata": {
    "colab": {
      "provenance": [],
      "mount_file_id": "1STWniS3jJMwxMyocn65dRMOd3rzjmXSX",
      "authorship_tag": "ABX9TyNI63Z7Wq26RQ1pqXbIY1ce",
      "include_colab_link": true
    },
    "kernelspec": {
      "name": "python3",
      "display_name": "Python 3"
    },
    "language_info": {
      "name": "python"
    }
  },
  "cells": [
    {
      "cell_type": "markdown",
      "metadata": {
        "id": "view-in-github",
        "colab_type": "text"
      },
      "source": [
        "<a href=\"https://colab.research.google.com/github/marinwitherspoon/Image_Description_Application/blob/Marin-Witherspoon/Algorithm_Implimentation.ipynb\" target=\"_parent\"><img src=\"https://colab.research.google.com/assets/colab-badge.svg\" alt=\"Open In Colab\"/></a>"
      ]
    },
    {
      "cell_type": "code",
      "execution_count": null,
      "metadata": {
        "id": "j_5gbi9QDxfN"
      },
      "outputs": [],
      "source": [
        "# Download and import libraries\n",
        "!pip install transformers\n",
        "!pip install jiwer -q\n",
        "\n",
        "!wget \"https://raw.githubusercontent.com/marinwitherspoon/Image_Description_Application/main/data_structure/data_captions_processed.json\"\n",
        "import json\n",
        "import random\n",
        "from transformers import AutoModelForCausalLM"
      ]
    },
    {
      "cell_type": "code",
      "source": [
        "# import caption data\n",
        "\n",
        "with open('data_captions_processed.json', 'r') as text_file:\n",
        "  caption_data = json.load(text_file)\n",
        "\n",
        "#import image data\n",
        "image_file_path = '/content/drive/MyDrive/Capstone (Shared)/preprocessed_image_v3.json'\n",
        "\n",
        "with open(image_file_path , 'r') as image_file:\n",
        "  image_data = json.load(image_file)"
      ],
      "metadata": {
        "id": "moklowmtD7qG"
      },
      "execution_count": 4,
      "outputs": []
    },
    {
      "cell_type": "code",
      "source": [
        "# break up into testing and training datasets\n",
        "keys = list(image_data.keys())\n",
        "random.shuffle(keys)\n",
        "\n",
        "# split index\n",
        "split_index = int(len(keys) * 0.8)\n",
        "\n",
        "# break up by key\n",
        "train = keys[:split_index]\n",
        "test = keys[split_index:]"
      ],
      "metadata": {
        "id": "It9hPKPEE5gN"
      },
      "execution_count": 7,
      "outputs": []
    },
    {
      "cell_type": "code",
      "source": [
        "model = AutoModelForCausalLM(train)"
      ],
      "metadata": {
        "colab": {
          "base_uri": "https://localhost:8080/",
          "height": 322
        },
        "id": "Oy6OyttwIOV4",
        "outputId": "f83652da-67a0-4927-ebe2-9c67caeb440e"
      },
      "execution_count": 9,
      "outputs": [
        {
          "output_type": "error",
          "ename": "OSError",
          "evalue": "AutoModelForCausalLM is designed to be instantiated using the `AutoModelForCausalLM.from_pretrained(pretrained_model_name_or_path)` or `AutoModelForCausalLM.from_config(config)` methods.",
          "traceback": [
            "\u001b[0;31m---------------------------------------------------------------------------\u001b[0m",
            "\u001b[0;31mOSError\u001b[0m                                   Traceback (most recent call last)",
            "\u001b[0;32m<ipython-input-9-c4d1e9f5b5d9>\u001b[0m in \u001b[0;36m<cell line: 1>\u001b[0;34m()\u001b[0m\n\u001b[0;32m----> 1\u001b[0;31m \u001b[0mmodel\u001b[0m \u001b[0;34m=\u001b[0m \u001b[0mAutoModelForCausalLM\u001b[0m\u001b[0;34m(\u001b[0m\u001b[0mtrain\u001b[0m\u001b[0;34m)\u001b[0m\u001b[0;34m\u001b[0m\u001b[0;34m\u001b[0m\u001b[0m\n\u001b[0m",
            "\u001b[0;32m/usr/local/lib/python3.10/dist-packages/transformers/models/auto/auto_factory.py\u001b[0m in \u001b[0;36m__init__\u001b[0;34m(self, *args, **kwargs)\u001b[0m\n\u001b[1;32m    409\u001b[0m \u001b[0;34m\u001b[0m\u001b[0m\n\u001b[1;32m    410\u001b[0m     \u001b[0;32mdef\u001b[0m \u001b[0m__init__\u001b[0m\u001b[0;34m(\u001b[0m\u001b[0mself\u001b[0m\u001b[0;34m,\u001b[0m \u001b[0;34m*\u001b[0m\u001b[0margs\u001b[0m\u001b[0;34m,\u001b[0m \u001b[0;34m**\u001b[0m\u001b[0mkwargs\u001b[0m\u001b[0;34m)\u001b[0m\u001b[0;34m:\u001b[0m\u001b[0;34m\u001b[0m\u001b[0;34m\u001b[0m\u001b[0m\n\u001b[0;32m--> 411\u001b[0;31m         raise EnvironmentError(\n\u001b[0m\u001b[1;32m    412\u001b[0m             \u001b[0;34mf\"{self.__class__.__name__} is designed to be instantiated \"\u001b[0m\u001b[0;34m\u001b[0m\u001b[0;34m\u001b[0m\u001b[0m\n\u001b[1;32m    413\u001b[0m             \u001b[0;34mf\"using the `{self.__class__.__name__}.from_pretrained(pretrained_model_name_or_path)` or \"\u001b[0m\u001b[0;34m\u001b[0m\u001b[0;34m\u001b[0m\u001b[0m\n",
            "\u001b[0;31mOSError\u001b[0m: AutoModelForCausalLM is designed to be instantiated using the `AutoModelForCausalLM.from_pretrained(pretrained_model_name_or_path)` or `AutoModelForCausalLM.from_config(config)` methods."
          ]
        }
      ]
    },
    {
      "cell_type": "markdown",
      "source": [
        "Refrence:\n",
        "https://huggingface.co/docs/transformers/tasks/image_captioning"
      ],
      "metadata": {
        "id": "NiWT0dLYH4Jn"
      }
    }
  ]
}