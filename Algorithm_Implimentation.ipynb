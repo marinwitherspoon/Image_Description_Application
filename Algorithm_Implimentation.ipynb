{
  "nbformat": 4,
  "nbformat_minor": 0,
  "metadata": {
    "colab": {
      "provenance": [],
      "mount_file_id": "1STWniS3jJMwxMyocn65dRMOd3rzjmXSX",
      "authorship_tag": "ABX9TyMltz3ed9VG0OXTHU/Ai9ic",
      "include_colab_link": true
    },
    "kernelspec": {
      "name": "python3",
      "display_name": "Python 3"
    },
    "language_info": {
      "name": "python"
    }
  },
  "cells": [
    {
      "cell_type": "markdown",
      "metadata": {
        "id": "view-in-github",
        "colab_type": "text"
      },
      "source": [
        "<a href=\"https://colab.research.google.com/github/marinwitherspoon/Image_Description_Application/blob/Marin-Witherspoon/Algorithm_Implimentation.ipynb\" target=\"_parent\"><img src=\"https://colab.research.google.com/assets/colab-badge.svg\" alt=\"Open In Colab\"/></a>"
      ]
    },
    {
      "cell_type": "code",
      "execution_count": null,
      "metadata": {
        "id": "j_5gbi9QDxfN"
      },
      "outputs": [],
      "source": [
        "# Download and import libraries\n",
        "!pip install transformers datasets evaluate -q\n",
        "!pip install jiwer -q\n",
        "\n",
        "!wget \"https://raw.githubusercontent.com/marinwitherspoon/Image_Description_Application/main/data_structure/data_captions_processed.json\"\n",
        "import json\n",
        "import random"
      ]
    },
    {
      "cell_type": "code",
      "source": [
        "# import caption data\n",
        "\n",
        "with open('data_captions_processed.json', 'r') as text_file:\n",
        "  caption_data = json.load(text_file)\n",
        "\n",
        "#import image data\n",
        "image_file_path = '/content/drive/MyDrive/Capstone (Shared)/preprocessed_image_v3.json'\n",
        "\n",
        "with open(image_file_path , 'r') as image_file:\n",
        "  image_data = json.load(image_file)"
      ],
      "metadata": {
        "id": "moklowmtD7qG"
      },
      "execution_count": 4,
      "outputs": []
    },
    {
      "cell_type": "code",
      "source": [
        "# break up into testing and training datasets\n",
        "import random\n",
        "keys = list(image_data.keys())\n",
        "random.shuffle(keys)\n",
        "\n",
        "# split index\n",
        "split_index = int(len(keys) * 0.8)\n",
        "\n",
        "# break up by key\n",
        "train = keys[:split_index]\n",
        "test = keys[split_index:]\n",
        "\n"
      ],
      "metadata": {
        "id": "It9hPKPEE5gN"
      },
      "execution_count": 5,
      "outputs": []
    }
  ]
}